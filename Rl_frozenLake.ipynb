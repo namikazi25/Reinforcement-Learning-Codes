{
  "nbformat": 4,
  "nbformat_minor": 0,
  "metadata": {
    "colab": {
      "provenance": [],
      "gpuType": "T4",
      "include_colab_link": true
    },
    "kernelspec": {
      "name": "python3",
      "display_name": "Python 3"
    },
    "language_info": {
      "name": "python"
    },
    "accelerator": "GPU"
  },
  "cells": [
    {
      "cell_type": "markdown",
      "metadata": {
        "id": "view-in-github",
        "colab_type": "text"
      },
      "source": [
        "<a href=\"https://colab.research.google.com/github/namikazi25/Reinforcement-Learning-Codes/blob/main/Rl_frozenLake.ipynb\" target=\"_parent\"><img src=\"https://colab.research.google.com/assets/colab-badge.svg\" alt=\"Open In Colab\"/></a>"
      ]
    },
    {
      "cell_type": "code",
      "source": [
        "!pip install gymnasium"
      ],
      "metadata": {
        "colab": {
          "base_uri": "https://localhost:8080/"
        },
        "id": "thNuJeSVGlPP",
        "outputId": "2ef0835e-3a6b-4e41-9127-46ebd60b0aea"
      },
      "execution_count": 1,
      "outputs": [
        {
          "output_type": "stream",
          "name": "stdout",
          "text": [
            "Collecting gymnasium\n",
            "  Downloading gymnasium-0.29.1-py3-none-any.whl (953 kB)\n",
            "\u001b[2K     \u001b[90m━━━━━━━━━━━━━━━━━━━━━━━━━━━━━━━━━━━━━━━━\u001b[0m \u001b[32m953.9/953.9 kB\u001b[0m \u001b[31m7.7 MB/s\u001b[0m eta \u001b[36m0:00:00\u001b[0m\n",
            "\u001b[?25hRequirement already satisfied: numpy>=1.21.0 in /usr/local/lib/python3.10/dist-packages (from gymnasium) (1.25.2)\n",
            "Requirement already satisfied: cloudpickle>=1.2.0 in /usr/local/lib/python3.10/dist-packages (from gymnasium) (2.2.1)\n",
            "Requirement already satisfied: typing-extensions>=4.3.0 in /usr/local/lib/python3.10/dist-packages (from gymnasium) (4.9.0)\n",
            "Collecting farama-notifications>=0.0.1 (from gymnasium)\n",
            "  Downloading Farama_Notifications-0.0.4-py3-none-any.whl (2.5 kB)\n",
            "Installing collected packages: farama-notifications, gymnasium\n",
            "Successfully installed farama-notifications-0.0.4 gymnasium-0.29.1\n"
          ]
        }
      ]
    },
    {
      "cell_type": "code",
      "execution_count": 2,
      "metadata": {
        "id": "AuaW89RuGZ3L"
      },
      "outputs": [],
      "source": [
        "import numpy as np\n",
        "import gymnasium as gym\n",
        "import random\n",
        "import time\n",
        "from IPython.display import clear_output"
      ]
    },
    {
      "cell_type": "code",
      "source": [
        "env = gym.make('FrozenLake-v1', render_mode='ansi')\n",
        "# n_outputs = env.action_space.n"
      ],
      "metadata": {
        "id": "5ddboaqcGns2"
      },
      "execution_count": 3,
      "outputs": []
    },
    {
      "cell_type": "code",
      "source": [
        "action_space_size = env.action_space.n\n",
        "state_space_size = env.observation_space.n\n",
        "# obs, info = env.reset()\n",
        "q_table = np.zeros((state_space_size, action_space_size))"
      ],
      "metadata": {
        "id": "wDPZSI17GqK2"
      },
      "execution_count": 4,
      "outputs": []
    },
    {
      "cell_type": "code",
      "source": [
        "print(q_table)"
      ],
      "metadata": {
        "colab": {
          "base_uri": "https://localhost:8080/"
        },
        "id": "jhyC2B3fGuTv",
        "outputId": "d34efcb6-f940-4320-e015-08a6d1943808"
      },
      "execution_count": 5,
      "outputs": [
        {
          "output_type": "stream",
          "name": "stdout",
          "text": [
            "[[0. 0. 0. 0.]\n",
            " [0. 0. 0. 0.]\n",
            " [0. 0. 0. 0.]\n",
            " [0. 0. 0. 0.]\n",
            " [0. 0. 0. 0.]\n",
            " [0. 0. 0. 0.]\n",
            " [0. 0. 0. 0.]\n",
            " [0. 0. 0. 0.]\n",
            " [0. 0. 0. 0.]\n",
            " [0. 0. 0. 0.]\n",
            " [0. 0. 0. 0.]\n",
            " [0. 0. 0. 0.]\n",
            " [0. 0. 0. 0.]\n",
            " [0. 0. 0. 0.]\n",
            " [0. 0. 0. 0.]\n",
            " [0. 0. 0. 0.]]\n"
          ]
        }
      ]
    },
    {
      "cell_type": "code",
      "source": [
        "num_episodes = 10000\n",
        "max_steps_per_episode = 100\n",
        "\n",
        "learning_rate = 0.1\n",
        "gamma = 0.99\n",
        "\n",
        "# exploration_rate = 1\n",
        "# max_exploration_rate = 1\n",
        "# min_exploration_rate = 0.01\n",
        "# exploration_decay_rate = 0.001\n",
        "\n",
        "# Exploration parameters\n",
        "epsilon = 1.0                 # Exploration rate\n",
        "max_epsilon = 1.0             # Exploration probability at start\n",
        "min_epsilon = 0.01            # Minimum exploration probability\n",
        "decay_rate = 0.005             # Exponential decay rate for exploration prob"
      ],
      "metadata": {
        "id": "Y-hSALVFGvJl"
      },
      "execution_count": 9,
      "outputs": []
    },
    {
      "cell_type": "code",
      "source": [
        "# total_episodes = 50000       # Total episodes\n",
        "# learning_rate = 0.7          # Learning rate\n",
        "# max_steps = 99               # Max steps per episode\n",
        "# gamma = 0.95                 # Discounting rate\n",
        "\n",
        "# # Exploration parameters\n",
        "# epsilon = 1.0                 # Exploration rate\n",
        "# max_epsilon = 1.0             # Exploration probability at start\n",
        "# min_epsilon = 0.01            # Minimum exploration probability\n",
        "# decay_rate = 0.005            # Exponential decay rate for exploration prob"
      ],
      "metadata": {
        "id": "2GwlbVJnJ8hA"
      },
      "execution_count": null,
      "outputs": []
    },
    {
      "cell_type": "code",
      "source": [
        "# List of rewards\n",
        "rewards = []\n",
        "\n",
        "# 2 For life or until learning is stopped\n",
        "for episode in range(num_episodes):\n",
        "    # Reset the environment\n",
        "    state = env.reset()[0]\n",
        "    step = 0\n",
        "    done = False\n",
        "    total_rewards = 0\n",
        "\n",
        "    for step in range(max_steps_per_episode):\n",
        "        # 3. Choose an action a in the current world state (s)\n",
        "        ## First we randomize a number\n",
        "        exp_exp_tradeoff = random.uniform(0, 1)\n",
        "\n",
        "        ## If this number > greater than epsilon --> exploitation (taking the biggest Q value for this state)\n",
        "        if exp_exp_tradeoff > epsilon:\n",
        "            action = np.argmax(q_table[state,:])\n",
        "\n",
        "        # Else doing a random choice --> exploration\n",
        "        else:\n",
        "            action = env.action_space.sample()\n",
        "\n",
        "        # Take the action (a) and observe the outcome state(s') and reward (r)\n",
        "        #print(env.step(action))\n",
        "        new_state, reward, done, turnicated, info = env.step(action)\n",
        "\n",
        "        # Update Q(s,a):= Q(s,a) + lr [R(s,a) + gamma * max Q(s',a') - Q(s,a)]\n",
        "        # qtable[new_state,:] : all the actions we can take from new state\n",
        "        #q_table[state, action] = q_table[state, action] + learning_rate * (reward + gamma * np.max(q_table[new_state, :]) - q_table[state, action])\n",
        "\n",
        "        q_table[state, action] = q_table[state, action] * (1 - learning_rate) + learning_rate * (reward + gamma * np.max(q_table[new_state, :]))\n",
        "\n",
        "        total_rewards += reward\n",
        "\n",
        "        # Our new state is state\n",
        "        state = new_state\n",
        "\n",
        "        # If done (if we're dead) : finish episode\n",
        "        if done == True:\n",
        "            break\n",
        "\n",
        "    # Reduce epsilon (because we need less and less exploration)\n",
        "    epsilon = min_epsilon + (max_epsilon - min_epsilon)*np.exp(-decay_rate*episode)\n",
        "    # Exploration rate decay\n",
        "\n",
        "    rewards.append(total_rewards)\n",
        "\n",
        "# Calculate and print the average reward per thousand episodes\n",
        "rewards_per_thousand_episodes = np.split(np.array(rewards),num_episodes/1000)\n",
        "count = 1000\n",
        "\n",
        "print(\"********Average reward per thousand episodes********\\n\")\n",
        "for r in rewards_per_thousand_episodes:\n",
        "    print(count, \": \", str(sum(r/1000)))\n",
        "    count += 1000\n",
        "print (\"Score over time: \" +  str(sum(rewards)/num_episodes))\n",
        "print(q_table)"
      ],
      "metadata": {
        "colab": {
          "base_uri": "https://localhost:8080/"
        },
        "id": "GrWycfGnG1Md",
        "outputId": "b223fa68-5425-4a90-d72a-d636f035a05c"
      },
      "execution_count": 11,
      "outputs": [
        {
          "output_type": "stream",
          "name": "stdout",
          "text": [
            "********Average reward per thousand episodes********\n",
            "\n",
            "1000 :  0.36600000000000027\n",
            "2000 :  0.6850000000000005\n",
            "3000 :  0.7060000000000005\n",
            "4000 :  0.6810000000000005\n",
            "5000 :  0.6700000000000005\n",
            "6000 :  0.7060000000000005\n",
            "7000 :  0.6680000000000005\n",
            "8000 :  0.6960000000000005\n",
            "9000 :  0.6970000000000005\n",
            "10000 :  0.6940000000000005\n",
            "Score over time: 0.6569\n",
            "[[0.52617335 0.5046683  0.50514199 0.50451146]\n",
            " [0.33541766 0.32666494 0.34335121 0.48427916]\n",
            " [0.38500713 0.40896109 0.41404903 0.46149992]\n",
            " [0.32140257 0.22487655 0.27655846 0.45224634]\n",
            " [0.53860404 0.42672537 0.49372391 0.32329795]\n",
            " [0.         0.         0.         0.        ]\n",
            " [0.34186587 0.12214604 0.2125904  0.06617263]\n",
            " [0.         0.         0.         0.        ]\n",
            " [0.36306923 0.52676232 0.44200627 0.59092199]\n",
            " [0.42872843 0.6268435  0.56622437 0.42669557]\n",
            " [0.50391073 0.35763819 0.28011145 0.35085773]\n",
            " [0.         0.         0.         0.        ]\n",
            " [0.         0.         0.         0.        ]\n",
            " [0.40534236 0.52237455 0.73069243 0.34591513]\n",
            " [0.74368496 0.8674987  0.72999121 0.80412179]\n",
            " [0.         0.         0.         0.        ]]\n"
          ]
        }
      ]
    },
    {
      "cell_type": "code",
      "source": [
        "# env.reset()[0]\n",
        "\n",
        "for episode in range(5):\n",
        "    state = env.reset()[0]\n",
        "    step = 0\n",
        "    done = False\n",
        "    print(\"****************************************************\")\n",
        "    print(\"EPISODE \", episode)\n",
        "    time.sleep(1)\n",
        "\n",
        "    for step in range(max_steps_per_episode):\n",
        "        clear_output(wait = True)\n",
        "        print(env.render())\n",
        "        time.sleep(0.3)\n",
        "        # Take the action (index) that have the maximum expected future reward given that state\n",
        "        action = np.argmax(q_table[state,:])\n",
        "\n",
        "        new_state, reward, done, turnicate, info = env.step(action)\n",
        "\n",
        "        if done:\n",
        "            # Here, we decide to only print the last state (to see if our agent is on the goal or fall into an hole)\n",
        "            clear_output(wait = True)\n",
        "            print(env.render())\n",
        "            if new_state == 15:\n",
        "                print(\"We reached our Goal 🏆\")\n",
        "                time.sleep(3)\n",
        "            else:\n",
        "                print(\"We fell into a hole ☠️\")\n",
        "                time.sleep(3)\n",
        "            clear_output(wait = True)\n",
        "\n",
        "            # We print the number of step it took.\n",
        "            print(\"Number of steps\", step)\n",
        "\n",
        "            break\n",
        "        state = new_state\n",
        "env.close()"
      ],
      "metadata": {
        "colab": {
          "base_uri": "https://localhost:8080/"
        },
        "id": "zo-RvRYVHPiu",
        "outputId": "661edd93-7da8-4e4e-eff7-2a0203e4d18a"
      },
      "execution_count": 12,
      "outputs": [
        {
          "output_type": "stream",
          "name": "stdout",
          "text": [
            "  (Left)\n",
            "\u001b[41mS\u001b[0mFFF\n",
            "FHFH\n",
            "FFFH\n",
            "HFFG\n",
            "\n"
          ]
        }
      ]
    }
  ]
}